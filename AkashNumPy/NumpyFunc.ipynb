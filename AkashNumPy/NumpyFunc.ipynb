{
 "cells": [
  {
   "cell_type": "markdown",
   "id": "daf5dc4c",
   "metadata": {},
   "source": [
    "# NumPy Functions"
   ]
  },
  {
   "cell_type": "code",
   "execution_count": 1,
   "id": "25a5aa2e",
   "metadata": {},
   "outputs": [],
   "source": [
    "import numpy as np"
   ]
  },
  {
   "cell_type": "markdown",
   "id": "4f2f02ef",
   "metadata": {},
   "source": [
    "# arange()"
   ]
  },
  {
   "cell_type": "code",
   "execution_count": 2,
   "id": "acb732b3",
   "metadata": {},
   "outputs": [
    {
     "name": "stdout",
     "output_type": "stream",
     "text": [
      "[ 1  2  3  4  5  6  7  8  9 10 11 12]\n"
     ]
    }
   ],
   "source": [
    "# np.arange(start, end ,steps)\n",
    "ar = np.arange(1,13)\n",
    "print(ar)"
   ]
  },
  {
   "cell_type": "markdown",
   "id": "e45ed582",
   "metadata": {},
   "source": [
    "# ar = np.arange(1,13,3)\n",
    "print(ar)"
   ]
  },
  {
   "cell_type": "markdown",
   "id": "7df8c776",
   "metadata": {},
   "source": [
    "# linespace()"
   ]
  },
  {
   "cell_type": "code",
   "execution_count": 3,
   "id": "c7121258",
   "metadata": {},
   "outputs": [
    {
     "name": "stdout",
     "output_type": "stream",
     "text": [
      "[1.         2.33333333 3.66666667 5.        ]\n"
     ]
    }
   ],
   "source": [
    "ar2 = np.linspace(1,5,4)\n",
    "print(ar2)\n"
   ]
  },
  {
   "cell_type": "markdown",
   "id": "4a7dea7f",
   "metadata": {},
   "source": [
    "# reshape"
   ]
  },
  {
   "cell_type": "code",
   "execution_count": 4,
   "id": "ce625ed2",
   "metadata": {},
   "outputs": [
    {
     "name": "stdout",
     "output_type": "stream",
     "text": [
      "[[[ 1  2]\n",
      "  [ 3  4]\n",
      "  [ 5  6]]\n",
      "\n",
      " [[ 7  8]\n",
      "  [ 9 10]\n",
      "  [11 12]]]\n"
     ]
    }
   ],
   "source": [
    "ar3=np.arange(1,13).reshape(2,3,2)\n",
    "print(ar3)"
   ]
  },
  {
   "cell_type": "markdown",
   "id": "671c7856",
   "metadata": {},
   "source": [
    "# revel()"
   ]
  },
  {
   "cell_type": "code",
   "execution_count": 5,
   "id": "2d73bcdb",
   "metadata": {},
   "outputs": [
    {
     "data": {
      "text/plain": [
       "array([ 1,  2,  3,  4,  5,  6,  7,  8,  9, 10, 11, 12])"
      ]
     },
     "execution_count": 5,
     "metadata": {},
     "output_type": "execute_result"
    }
   ],
   "source": [
    "#used for converting multidimentional to 1D\n",
    "ar3.ravel()"
   ]
  },
  {
   "cell_type": "markdown",
   "id": "f6a449e1",
   "metadata": {},
   "source": [
    "# flatten()"
   ]
  },
  {
   "cell_type": "code",
   "execution_count": 6,
   "id": "817a0370",
   "metadata": {},
   "outputs": [
    {
     "data": {
      "text/plain": [
       "array([ 1,  2,  3,  4,  5,  6,  7,  8,  9, 10, 11, 12])"
      ]
     },
     "execution_count": 6,
     "metadata": {},
     "output_type": "execute_result"
    }
   ],
   "source": [
    "ar3.flatten() #also pass arguments in paranthesis"
   ]
  },
  {
   "cell_type": "markdown",
   "id": "9e8fcfb2",
   "metadata": {},
   "source": [
    "# transpose()"
   ]
  },
  {
   "cell_type": "code",
   "execution_count": 7,
   "id": "b8040ccf",
   "metadata": {},
   "outputs": [
    {
     "data": {
      "text/plain": [
       "array([[[ 1,  7],\n",
       "        [ 3,  9],\n",
       "        [ 5, 11]],\n",
       "\n",
       "       [[ 2,  8],\n",
       "        [ 4, 10],\n",
       "        [ 6, 12]]])"
      ]
     },
     "execution_count": 7,
     "metadata": {},
     "output_type": "execute_result"
    }
   ],
   "source": [
    "ar3.transpose()"
   ]
  },
  {
   "cell_type": "code",
   "execution_count": null,
   "id": "397336af",
   "metadata": {},
   "outputs": [],
   "source": []
  }
 ],
 "metadata": {
  "kernelspec": {
   "display_name": "Python 3",
   "language": "python",
   "name": "python3"
  },
  "language_info": {
   "codemirror_mode": {
    "name": "ipython",
    "version": 3
   },
   "file_extension": ".py",
   "mimetype": "text/x-python",
   "name": "python",
   "nbconvert_exporter": "python",
   "pygments_lexer": "ipython3",
   "version": "3.8.8"
  }
 },
 "nbformat": 4,
 "nbformat_minor": 5
}
