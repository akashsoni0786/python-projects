{
 "cells": [
  {
   "cell_type": "code",
   "execution_count": 1,
   "id": "ca2ff3b6",
   "metadata": {},
   "outputs": [],
   "source": [
    "import numpy as np"
   ]
  },
  {
   "cell_type": "code",
   "execution_count": 4,
   "id": "fdddf8d0",
   "metadata": {},
   "outputs": [
    {
     "data": {
      "text/plain": [
       "array('Hello this is Akash, Who is one of the most loving boy',\n",
       "      dtype='<U54')"
      ]
     },
     "execution_count": 4,
     "metadata": {},
     "output_type": "execute_result"
    }
   ],
   "source": [
    "s1=\"Hello this is Akash, \"\n",
    "s2 =\"Who is one of the most loving boy\"\n",
    "np.char.add(s1,s2)"
   ]
  },
  {
   "cell_type": "code",
   "execution_count": 5,
   "id": "846c60ab",
   "metadata": {},
   "outputs": [
    {
     "data": {
      "text/plain": [
       "array('HELLO THIS IS AKASH, ', dtype='<U21')"
      ]
     },
     "execution_count": 5,
     "metadata": {},
     "output_type": "execute_result"
    }
   ],
   "source": [
    "np.char.upper(s1)"
   ]
  },
  {
   "cell_type": "code",
   "execution_count": 6,
   "id": "0bde2b0d",
   "metadata": {},
   "outputs": [
    {
     "data": {
      "text/plain": [
       "array('***************************************Hello this is Akash, ****************************************',\n",
       "      dtype='<U100')"
      ]
     },
     "execution_count": 6,
     "metadata": {},
     "output_type": "execute_result"
    }
   ],
   "source": [
    "np.char.center(s1,100,fillchar=\"*\")"
   ]
  },
  {
   "cell_type": "code",
   "execution_count": 7,
   "id": "0dbb7082",
   "metadata": {},
   "outputs": [
    {
     "data": {
      "text/plain": [
       "array(list(['Hello', 'this', 'is', 'Akash,']), dtype=object)"
      ]
     },
     "execution_count": 7,
     "metadata": {},
     "output_type": "execute_result"
    }
   ],
   "source": [
    "np.char.split(s1)"
   ]
  },
  {
   "cell_type": "code",
   "execution_count": 8,
   "id": "289f8cf4",
   "metadata": {},
   "outputs": [
    {
     "data": {
      "text/plain": [
       "array(list(['Hello this is Akash, ']), dtype=object)"
      ]
     },
     "execution_count": 8,
     "metadata": {},
     "output_type": "execute_result"
    }
   ],
   "source": [
    "np.char.splitlines(s1)"
   ]
  },
  {
   "cell_type": "code",
   "execution_count": 9,
   "id": "ba6cfe1a",
   "metadata": {},
   "outputs": [
    {
     "data": {
      "text/plain": [
       "array(list(['Hello', 'akss']), dtype=object)"
      ]
     },
     "execution_count": 9,
     "metadata": {},
     "output_type": "execute_result"
    }
   ],
   "source": [
    "np.char.splitlines(\"Hello\\nakss\")"
   ]
  },
  {
   "cell_type": "code",
   "execution_count": 13,
   "id": "959c4308",
   "metadata": {},
   "outputs": [
    {
     "data": {
      "text/plain": [
       "array(['d:m:y', 'd/m/y'], dtype='<U5')"
      ]
     },
     "execution_count": 13,
     "metadata": {},
     "output_type": "execute_result"
    }
   ],
   "source": [
    "s3=\"dmy\"\n",
    "np.char.join([\":\",\"/\"],[s3,s3])"
   ]
  },
  {
   "cell_type": "code",
   "execution_count": 14,
   "id": "d04063b1",
   "metadata": {},
   "outputs": [
    {
     "data": {
      "text/plain": [
       "array('Hello this is akku, ', dtype='<U20')"
      ]
     },
     "execution_count": 14,
     "metadata": {},
     "output_type": "execute_result"
    }
   ],
   "source": [
    "np.char.replace(s1,'Akash',\"akku\")"
   ]
  },
  {
   "cell_type": "code",
   "execution_count": 17,
   "id": "ba18cab7",
   "metadata": {},
   "outputs": [
    {
     "data": {
      "text/plain": [
       "array(3)"
      ]
     },
     "execution_count": 17,
     "metadata": {},
     "output_type": "execute_result"
    }
   ],
   "source": [
    "np.char.count(s1,\"s\")\n"
   ]
  },
  {
   "cell_type": "code",
   "execution_count": 18,
   "id": "58ad3d07",
   "metadata": {},
   "outputs": [
    {
     "data": {
      "text/plain": [
       "array(16)"
      ]
     },
     "execution_count": 18,
     "metadata": {},
     "output_type": "execute_result"
    }
   ],
   "source": [
    "np.char.find(s1,\"a\")"
   ]
  },
  {
   "cell_type": "code",
   "execution_count": null,
   "id": "afb03725",
   "metadata": {},
   "outputs": [],
   "source": []
  }
 ],
 "metadata": {
  "kernelspec": {
   "display_name": "Python 3",
   "language": "python",
   "name": "python3"
  },
  "language_info": {
   "codemirror_mode": {
    "name": "ipython",
    "version": 3
   },
   "file_extension": ".py",
   "mimetype": "text/x-python",
   "name": "python",
   "nbconvert_exporter": "python",
   "pygments_lexer": "ipython3",
   "version": "3.8.8"
  }
 },
 "nbformat": 4,
 "nbformat_minor": 5
}
